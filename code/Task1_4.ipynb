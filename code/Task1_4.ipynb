{
  "nbformat": 4,
  "nbformat_minor": 0,
  "metadata": {
    "kernelspec": {
      "display_name": "Python 3",
      "language": "python",
      "name": "python3"
    },
    "language_info": {
      "codemirror_mode": {
        "name": "ipython",
        "version": 3
      },
      "file_extension": ".py",
      "mimetype": "text/x-python",
      "name": "python",
      "nbconvert_exporter": "python",
      "pygments_lexer": "ipython3",
      "version": "3.6.6"
    },
    "colab": {
      "name": "Task1.4.ipynb",
      "provenance": []
    }
  },
  "cells": [
    {
      "cell_type": "code",
      "metadata": {
        "id": "9-A9KDJ8sEbP",
        "colab_type": "code",
        "colab": {},
        "outputId": "8c3d660d-6e9d-4f62-fe32-f5b960fbf1ba"
      },
      "source": [
        "import numpy as np\n",
        "import cv2 as cv\n",
        "from matplotlib import pyplot as plt\n",
        "from numpy import float32, int32\n",
        "\n",
        "UBIT = 'rohanhem'\n",
        "np.random.seed(sum([ord(c) for c in UBIT]))\n",
        "\n",
        "\n",
        "MIN_MATCH_COUNT = 11\n",
        "\n",
        "img1 = cv.imread('mountain1.jpg',0)          # queryImage\n",
        "img2 = cv.imread('mountain2.jpg',0) # trainImage\n",
        "\n",
        "#initiate sift detector\n",
        "sift = cv.xfeatures2d.SIFT_create()\n",
        "\n",
        "# find the keypoints and descriptors with SIFT\n",
        "kp1, des1 = sift.detectAndCompute(img1,None)\n",
        "kp2, des2 = sift.detectAndCompute(img2,None)\n",
        "\n",
        "FLANN_INDEX_KDTREE = 1\n",
        "\n",
        "index_params = dict(algorithm = FLANN_INDEX_KDTREE, trees = 5)\n",
        "search_params = dict(checks = 50)\n",
        "\n",
        "flann = cv.FlannBasedMatcher(index_params, search_params)\n",
        "matches = flann.knnMatch(des1,des2,k=2)\n",
        "\n",
        "# store all the good matches as per Lowe's ratio test.\n",
        "good = []\n",
        "matchesMask = []\n",
        "for m,n in matches:\n",
        "    if m.distance < 0.75*n.distance:\n",
        "        good.append(m)\n",
        "\n",
        "matchesMask = np.int32(matchesMask)\n",
        "if len(good)>MIN_MATCH_COUNT:\n",
        "    src_pts = np.float32([ kp1[m.queryIdx].pt for m in good ]).reshape(-1,1,2)\n",
        "    dst_pts = np.float32([ kp2[m.trainIdx].pt for m in good ]).reshape(-1,1,2)\n",
        "    \n",
        "    M, mask = cv.findHomography(src_pts, dst_pts, cv.FM_RANSAC,5.0)    \n",
        "    \n",
        "   # matchesMask = matchesMask[mask.ravel()==1]\n",
        "    \n",
        "    matchesMask = mask.ravel().tolist()\n",
        "    \n",
        "    h,w = img1.shape\n",
        "    \n",
        "    pts = np.float32([[0,0],[0,h-1],[w-1,h-1],[w-1,0] ]).reshape(-1,1,2)\n",
        "    dst = cv.perspectiveTransform(pts,M)\n",
        "    \n",
        "   # img2 = cv.polylines(img2,[np.int32(dst)],True,255,3, cv.LINE_AA)\n",
        "\n",
        "else:\n",
        "    print( \"Not enough matches are found - {}/{}\".format(len(good), MIN_MATCH_COUNT) )\n",
        "    matchesMask = None\n",
        "np.random.shuffle(matchesMask)\n",
        "matchesMask = matchesMask[:10]\n",
        "# np.random.shuffle(good)\n",
        "# good = good[:10]\n",
        "draw_params = dict(matchColor = (0,255,0), # draw matches in green color\n",
        "                   singlePointColor = None,\n",
        "                   matchesMask = matchesMask, # draw only inliers\n",
        "                   flags = 2)\n",
        "\n",
        "img3 = cv.drawMatches(img1,kp1,img2,kp2,good,None,**draw_params)\n",
        "\n",
        "cv.imwrite('task1_matches.jpg', img3)\n",
        "\n",
        "print (M)"
      ],
      "execution_count": 0,
      "outputs": [
        {
          "output_type": "stream",
          "text": [
            "[[ 1.55957349e+00 -2.92880592e-01 -3.86273763e+02]\n",
            " [ 4.37559262e-01  1.40210289e+00 -1.84063349e+02]\n",
            " [ 1.17252237e-03 -8.91956295e-05  1.00000000e+00]]\n"
          ],
          "name": "stdout"
        }
      ]
    }
  ]
}