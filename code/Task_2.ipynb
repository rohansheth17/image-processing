{
  "nbformat": 4,
  "nbformat_minor": 0,
  "metadata": {
    "kernelspec": {
      "display_name": "Python 3",
      "language": "python",
      "name": "python3"
    },
    "language_info": {
      "codemirror_mode": {
        "name": "ipython",
        "version": 3
      },
      "file_extension": ".py",
      "mimetype": "text/x-python",
      "name": "python",
      "nbconvert_exporter": "python",
      "pygments_lexer": "ipython3",
      "version": "3.6.6"
    },
    "colab": {
      "name": "Task 2.ipynb",
      "provenance": []
    }
  },
  "cells": [
    {
      "cell_type": "code",
      "metadata": {
        "id": "zoWLFNshsI9m",
        "colab_type": "code",
        "colab": {},
        "outputId": "066dc267-14b2-457c-9019-e7bd1888b302"
      },
      "source": [
        "import cv2\n",
        "import numpy as np\n",
        "\n",
        "\n",
        "img = cv2.imread('tsucuba_right.png')\n",
        "gray= cv2.cvtColor(img,cv2.COLOR_BGR2GRAY)\n",
        "sift = cv2.xfeatures2d.SIFT_create()\n",
        "#kp = sift.detect(gray,None)\n",
        "kp, des = sift.detectAndCompute(gray,None)\n",
        "img=cv2.drawKeypoints(gray,kp,None) \n",
        "cv2.imwrite('task2_sift2.jpg',img)"
      ],
      "execution_count": 0,
      "outputs": [
        {
          "output_type": "execute_result",
          "data": {
            "text/plain": [
              "True"
            ]
          },
          "metadata": {
            "tags": []
          },
          "execution_count": 2
        }
      ]
    },
    {
      "cell_type": "code",
      "metadata": {
        "id": "8pEkGDmAsI9t",
        "colab_type": "code",
        "colab": {},
        "outputId": "57ccd14f-cdfd-463f-97b6-0a1f8ffa42ad"
      },
      "source": [
        "import numpy as np\n",
        "import cv2\n",
        "from matplotlib import pyplot as plt\n",
        "\n",
        "img1 = cv2.imread('tsucuba_left.png',1)          # queryImage\n",
        "img2 = cv2.imread('tsucuba_right.png',1) # trainImage\n",
        "\n",
        "# Initiate SIFT detector\n",
        "#sift = cv2.SIFT()\n",
        "sift = cv2.xfeatures2d.SIFT_create()\n",
        "# find the keypoints and descriptors with SIFT\n",
        "kp1, des1 = sift.detectAndCompute(img1,None)\n",
        "kp2, des2 = sift.detectAndCompute(img2,None)\n",
        "\n",
        "# FLANN parameters\n",
        "FLANN_INDEX_KDTREE = 0\n",
        "index_params = dict(algorithm = FLANN_INDEX_KDTREE, trees = 5)\n",
        "search_params = dict(checks=50)   # or pass empty dictionary\n",
        "\n",
        "flann = cv2.FlannBasedMatcher(index_params,search_params)\n",
        "\n",
        "matches = flann.knnMatch(des1,des2,k=2)\n",
        "\n",
        "# Need to draw only good matches, so create a mask\n",
        "matchesMask = [[0,0] for i in range(len(matches))]\n",
        "\n",
        "# ratio test as per Lowe's paper\n",
        "for i,(m,n) in enumerate(matches):\n",
        "    if m.distance < 0.75*n.distance:\n",
        "        matchesMask[i]=[1,0]\n",
        "\n",
        "draw_params = dict(matchColor = (0,255,0),\n",
        "                   singlePointColor = (255,0,0),\n",
        "                   matchesMask = matchesMask,\n",
        "                   flags = 0)\n",
        "\n",
        "img3 = cv2.drawMatchesKnn(img1,kp1,img2,kp2,matches,None,**draw_params)\n",
        "cv2.imwrite('task2_matches_knn.jpg',img3)\n",
        "#plt.imshow(img3,),plt.show()"
      ],
      "execution_count": 0,
      "outputs": [
        {
          "output_type": "execute_result",
          "data": {
            "text/plain": [
              "True"
            ]
          },
          "metadata": {
            "tags": []
          },
          "execution_count": 3
        }
      ]
    },
    {
      "cell_type": "code",
      "metadata": {
        "id": "ZMTEXrhgsI9z",
        "colab_type": "code",
        "colab": {},
        "outputId": "bd9a7042-2570-4fcd-e586-4eb411fd7c98"
      },
      "source": [
        "import cv2\n",
        "import numpy as np\n",
        "from matplotlib import pyplot as plt\n",
        "\n",
        "img1 = cv2.imread('tsucuba_left.png',1)  #queryimage # left image\n",
        "img2 = cv2.imread('tsucuba_right.png',1) #trainimage # right image\n",
        "\n",
        "# sift = cv2.SIFT()\n",
        "sift = cv2.xfeatures2d.SIFT_create()\n",
        "# find the keypoints and descriptors with SIFT\n",
        "kp1, des1 = sift.detectAndCompute(img1,None)\n",
        "kp2, des2 = sift.detectAndCompute(img2,None)\n",
        "\n",
        "# FLANN parameters\n",
        "FLANN_INDEX_KDTREE = 0\n",
        "index_params = dict(algorithm = FLANN_INDEX_KDTREE, trees = 5)\n",
        "search_params = dict(checks=50)\n",
        "\n",
        "flann = cv2.FlannBasedMatcher(index_params,search_params)\n",
        "matches = flann.knnMatch(des1,des2,k=2)\n",
        "\n",
        "good = []\n",
        "pts1 = []\n",
        "pts2 = []\n",
        "\n",
        "\n",
        "for i,(m,n) in enumerate(matches):\n",
        "    if m.distance < 0.75*n.distance:\n",
        "        good.append(m)\n",
        "        pts2.append(kp2[m.trainIdx].pt)\n",
        "        pts1.append(kp1[m.queryIdx].pt)\n",
        "\n",
        "pts1 = np.int32(pts1)\n",
        "pts2 = np.int32(pts2)\n",
        "F, mask = cv2.findFundamentalMat(pts1,pts2,cv2.RANSAC)\n",
        "\n",
        "# We select only inlier points\n",
        "pts1 = pts1[mask.ravel()==1]\n",
        "pts2 = pts2[mask.ravel()==1]\n",
        "\n",
        "print (F)"
      ],
      "execution_count": 0,
      "outputs": [
        {
          "output_type": "stream",
          "text": [
            "[[-2.12607354e-06 -8.10713687e-05  7.47530309e-02]\n",
            " [ 4.60726414e-05  3.79326900e-05  1.32728554e+00]\n",
            " [-7.52042326e-02 -1.32608913e+00  1.00000000e+00]]\n"
          ],
          "name": "stdout"
        }
      ]
    },
    {
      "cell_type": "code",
      "metadata": {
        "id": "zEWqoLaGsI96",
        "colab_type": "code",
        "colab": {}
      },
      "source": [
        ""
      ],
      "execution_count": 0,
      "outputs": []
    }
  ]
}