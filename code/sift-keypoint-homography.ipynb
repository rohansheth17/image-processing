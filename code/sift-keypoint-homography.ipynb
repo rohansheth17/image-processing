{
  "nbformat": 4,
  "nbformat_minor": 0,
  "metadata": {
    "kernelspec": {
      "display_name": "Python 3",
      "language": "python",
      "name": "python3"
    },
    "language_info": {
      "codemirror_mode": {
        "name": "ipython",
        "version": 3
      },
      "file_extension": ".py",
      "mimetype": "text/x-python",
      "name": "python",
      "nbconvert_exporter": "python",
      "pygments_lexer": "ipython3",
      "version": "3.6.6"
    },
    "colab": {
      "name": "Task 1.ipynb",
      "provenance": []
    }
  },
  "cells": [
    {
      "cell_type": "code",
      "metadata": {
        "id": "e33xaANwsHT6",
        "colab_type": "code",
        "colab": {},
        "outputId": "81ff02de-8e0e-4d80-dc06-7b45fd87ee81"
      },
      "source": [
        "import cv2\n",
        "import numpy as np\n",
        "\n",
        "\n",
        "img = cv2.imread('mountain1.jpg')\n",
        "gray= cv2.cvtColor(img,cv2.COLOR_BGR2GRAY)\n",
        "sift = cv2.xfeatures2d.SIFT_create()\n",
        "#kp = sift.detect(gray,None)\n",
        "kp, des = sift.detectAndCompute(gray,None)\n",
        "img=cv2.drawKeypoints(gray,kp,None) \n",
        "cv2.imwrite('task1_sift1.jpg',img)"
      ],
      "execution_count": 0,
      "outputs": [
        {
          "output_type": "execute_result",
          "data": {
            "text/plain": [
              "True"
            ]
          },
          "metadata": {
            "tags": []
          },
          "execution_count": 1
        }
      ]
    },
    {
      "cell_type": "code",
      "metadata": {
        "id": "LOuZ0SQYsHUB",
        "colab_type": "code",
        "colab": {},
        "outputId": "361483ae-7604-4b29-931e-be7404e8c2c3"
      },
      "source": [
        "import numpy as np\n",
        "import cv2\n",
        "from matplotlib import pyplot as plt\n",
        "\n",
        "img1 = cv2.imread('mountain1.jpg',0)          # queryImage\n",
        "img2 = cv2.imread('mountain2.jpg',0) # trainImage\n",
        "\n",
        "# Initiate SIFT detector\n",
        "#sift = cv2.SIFT()\n",
        "sift = cv2.xfeatures2d.SIFT_create()\n",
        "# find the keypoints and descriptors with SIFT\n",
        "kp1, des1 = sift.detectAndCompute(img1,None)\n",
        "kp2, des2 = sift.detectAndCompute(img2,None)\n",
        "\n",
        "# FLANN parameters\n",
        "FLANN_INDEX_KDTREE = 0\n",
        "index_params = dict(algorithm = FLANN_INDEX_KDTREE, trees = 5)\n",
        "search_params = dict(checks=50)   # or pass empty dictionary\n",
        "\n",
        "flann = cv2.FlannBasedMatcher(index_params,search_params)\n",
        "\n",
        "matches = flann.knnMatch(des1,des2,k=2)\n",
        "\n",
        "# Need to draw only good matches, so create a mask\n",
        "matchesMask = [[0,0] for i in range(len(matches))]\n",
        "\n",
        "# ratio test as per Lowe's paper\n",
        "for i,(m,n) in enumerate(matches):\n",
        "    if m.distance < 0.75*n.distance:\n",
        "        matchesMask[i]=[1,0]\n",
        "\n",
        "draw_params = dict(matchColor = (0,255,0),\n",
        "                   singlePointColor = (255,0,0),\n",
        "                   matchesMask = matchesMask,\n",
        "                   flags = 0)\n",
        "\n",
        "img3 = cv2.drawMatchesKnn(img1,kp1,img2,kp2,matches,None,**draw_params)\n",
        "cv2.imwrite('task1_matches_knn.jpg',img3)\n",
        "#plt.imshow(img3,),plt.show()"
      ],
      "execution_count": 0,
      "outputs": [
        {
          "output_type": "execute_result",
          "data": {
            "text/plain": [
              "True"
            ]
          },
          "metadata": {
            "tags": []
          },
          "execution_count": 11
        }
      ]
    },
    {
      "cell_type": "code",
      "metadata": {
        "id": "DqfKF_G1sHUI",
        "colab_type": "code",
        "colab": {},
        "outputId": "85bc9278-5fb9-4310-cd17-12dd52549e62"
      },
      "source": [
        "import numpy as np\n",
        "import cv2\n",
        "from matplotlib import pyplot as plt\n",
        "from numpy import float32, int32\n",
        "MIN_MATCH_COUNT = 32\n",
        "\n",
        "UBIT = 'rohanhem'\n",
        "np.random.seed(sum([ord(c) for c in UBIT]))\n",
        "\n",
        "\n",
        "def warp(img1, img2, H):\n",
        "    \n",
        "    h1,w1 = img1.shape[:2]\n",
        "    h2,w2 = img2.shape[:2]\n",
        "    pts1 = float32([[0,0],[0,h1],[w1,h1],[w1,0]]).reshape(-1,1,2)\n",
        "    pts2 = float32([[0,0],[0,h2],[w2,h2],[w2,0]]).reshape(-1,1,2)\n",
        "    pts2_ = cv2.perspectiveTransform(pts2, H)\n",
        "    pts = np.concatenate((pts1, pts2_), axis=0)\n",
        "    [xmin, ymin] = int32(pts.min(axis=0).ravel() - 0.5)\n",
        "    [xmax, ymax] = int32(pts.max(axis=0).ravel() + 0.5)\n",
        "    t = [-xmin,-ymin]\n",
        "    Ht = np.array([[1,0,t[0]],[0,1,t[1]],[0,0,1]]) \n",
        "    result = cv2.warpPerspective(img1, Ht.dot(H), (xmax-xmin, ymax-ymin))\n",
        "    result[t[1]:h1+t[1],t[0]:w1+t[0]] = img2\n",
        "    return result\n",
        "\n",
        "img1 = cv2.imread('mountain1.jpg',1)          # queryImage\n",
        "img2 = cv2.imread('mountain2.jpg',1) # trainImage\n",
        "cv2.imwrite('qwer.jpg',img1)\n",
        "\n",
        "sift = cv2.xfeatures2d.SIFT_create()\n",
        "\n",
        "kp1, des1 = sift.detectAndCompute(img1,None)\n",
        "kp2, des2 = sift.detectAndCompute(img2,None)\n",
        "\n",
        "FLANN_INDEX_KDTREE = 0\n",
        "index_params = dict(algorithm = FLANN_INDEX_KDTREE, trees = 5)\n",
        "search_params = dict(checks = 50)\n",
        "\n",
        "flann = cv2.FlannBasedMatcher(index_params, search_params)\n",
        "\n",
        "matches = flann.knnMatch(des1,des2,k=2)\n",
        "\n",
        "good = []\n",
        "for m,n in matches:\n",
        "    if m.distance < 0.75*n.distance:\n",
        "        good.append(m)\n",
        "        \n",
        "        \n",
        "if len(good)>MIN_MATCH_COUNT:\n",
        "    dst_pts = float32([kp1[m.queryIdx].pt for m in good]).reshape(-1,1,2)\n",
        "    src_pts = float32([kp2[m.trainIdx].pt for m in good]).reshape(-1,1,2)\n",
        "    M, mask = cv2.findHomography(src_pts, dst_pts, cv2.RANSAC, 5.0)\n",
        "\n",
        "    im_out = warp(img1, img2, M)\n",
        "    matchesMask = mask.ravel().tolist()\n",
        "\n",
        "\n",
        "else:\n",
        "    print(\"Not enough matches are found - %d/%d\" %(len(good),MIN_MATCH_COUNT))\n",
        "    matchesMask = None\n",
        "    \n",
        "np.random.shuffle(matchesMask)\n",
        "matchesMask = matchesMask[:10]  \n",
        "\n",
        "draw_params = dict(matchColor = (0,255,0), # draw matches in green color\n",
        "                   singlePointColor = None,\n",
        "                   matchesMask = matchesMask, # draw only inliers\n",
        "                   flags = 2)\n",
        "\n",
        "np.random.shuffle(good)\n",
        "good = good[:10]\n",
        "img3 = cv2.drawMatches(img1,kp1,img2,kp2,good,None,**draw_params)\n",
        "print (M)\n",
        "cv2.imwrite('task1_matches.jpg',img3)\n",
        "cv2.imwrite('task1_pano.jpg',im_out)\n",
        "#plt.imshow(img3, 'gray'),plt.show()    "
      ],
      "execution_count": 0,
      "outputs": [
        {
          "output_type": "stream",
          "text": [
            "[[ 5.90587029e-01  1.32589412e-01  2.58484863e+02]\n",
            " [-2.82834995e-01  8.60847918e-01  5.19136415e+01]\n",
            " [-7.32943586e-04 -1.04200571e-04  1.00000000e+00]]\n"
          ],
          "name": "stdout"
        },
        {
          "output_type": "execute_result",
          "data": {
            "text/plain": [
              "True"
            ]
          },
          "metadata": {
            "tags": []
          },
          "execution_count": 15
        }
      ]
    },
    {
      "cell_type": "code",
      "metadata": {
        "id": "4Xr9IbDVsHUN",
        "colab_type": "code",
        "colab": {}
      },
      "source": [
        ""
      ],
      "execution_count": 0,
      "outputs": []
    }
  ]
}
