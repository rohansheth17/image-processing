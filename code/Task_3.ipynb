{
  "nbformat": 4,
  "nbformat_minor": 0,
  "metadata": {
    "kernelspec": {
      "display_name": "Python 3",
      "language": "python",
      "name": "python3"
    },
    "language_info": {
      "codemirror_mode": {
        "name": "ipython",
        "version": 3
      },
      "file_extension": ".py",
      "mimetype": "text/x-python",
      "name": "python",
      "nbconvert_exporter": "python",
      "pygments_lexer": "ipython3",
      "version": "3.6.6"
    },
    "colab": {
      "name": "Task 3.ipynb",
      "provenance": []
    }
  },
  "cells": [
    {
      "cell_type": "code",
      "metadata": {
        "id": "r2oI5FDNsFld",
        "colab_type": "code",
        "colab": {},
        "outputId": "d7b2dbf0-f6d1-48d2-bdb0-decde6682037"
      },
      "source": [
        "import pandas as pd\n",
        "import numpy as np\n",
        "import matplotlib.pyplot as plt\n",
        "%matplotlib inline\n",
        "\n",
        "UBIT = 'rohanhem';\n",
        "np.random.seed(sum([ord(c) for c in UBIT]))\n",
        "\n",
        "input_data = [[5.9,3.2],[4.6,2.9],[6.2,2.8],[4.7,3.2],[5.5,4.2],[5.0,3.0],[4.9,3.1],[6.7,3.1],[5.1,3.8],[6.0,3.0]]\n",
        "np.savetxt('data.csv', input_data, fmt='%.2f', delimiter=',', header=\"x,  y,\")\n",
        "\n",
        "k = 3\n",
        "\n",
        "\n",
        "centroids={1:[6.2,3.2],2:[6.6,3.7],3:[6.5,3.0]}\n",
        "fig = plt.figure(figsize=(5, 5))\n",
        "plt.scatter(data['x'], data['y'], marker='^',facecolor='white', edgecolor='black', color='k')\n",
        "colmap = {1: 'r', 2: 'g', 3: 'b'}\n",
        "for i in centroids.keys():\n",
        "    plt.scatter(*centroids[i], color=colmap[i])\n",
        "plt.xlim(4, 7)\n",
        "plt.ylim(2.5, 5)\n",
        "plt.show()\n",
        "#fig.savefig('plot.png')\n",
        "\n",
        "\n"
      ],
      "execution_count": 0,
      "outputs": [
        {
          "output_type": "display_data",
          "data": {
            "image/png": "[encoded data removed]",
            "text/plain": [
              "<Figure size 360x360 with 1 Axes>"
            ]
          },
          "metadata": {
            "tags": [],
            "needs_background": "light"
          }
        }
      ]
    },
    {
      "cell_type": "code",
      "metadata": {
        "id": "_bWDYd28sFlp",
        "colab_type": "code",
        "colab": {},
        "outputId": "efda4a09-7664-4c10-c527-69e7b9ea9aa7"
      },
      "source": [
        "def assign(df, centroids):\n",
        "    for i in centroids.keys():\n",
        "        # sqrt((x1 - x2)^2 - (y1 - y2)^2)\n",
        "        df['distance_from_{}'.format(i)] = (\n",
        "            np.sqrt(\n",
        "                (df['x'] - centroids[i][0]) ** 2\n",
        "                + (df['y'] - centroids[i][1]) ** 2\n",
        "            )\n",
        "        )\n",
        "    centroid_distance_cols = ['distance_from_{}'.format(i) for i in centroids.keys()]\n",
        "    df['closest'] = df.loc[:, centroid_distance_cols].idxmin(axis=1)\n",
        "    df['closest'] = df['closest'].map(lambda x: int(x.lstrip('distance_from_')))\n",
        "    df['color'] = df['closest'].map(lambda x: colmap[x])\n",
        "    return df\n",
        "\n",
        "df = assign(df, centroids)\n",
        "print(df['closest'])\n",
        "\n",
        "fig = plt.figure(figsize=(5, 5))\n",
        "plt.scatter(df['x'], df['y'], color=df['color'], alpha=0.5, marker='^', edgecolor='k')\n",
        "for i in centroids.keys():\n",
        "    plt.scatter(*centroids[i], color=colmap[i])\n",
        "plt.xlim(4, 7)\n",
        "plt.ylim(2.5, 5)\n",
        "# plt.show()\n",
        "fig.savefig('task3_iter1_a.jpg')"
      ],
      "execution_count": 0,
      "outputs": [
        {
          "output_type": "stream",
          "text": [
            "0    1\n",
            "1    1\n",
            "2    3\n",
            "3    1\n",
            "4    2\n",
            "5    1\n",
            "6    1\n",
            "7    3\n",
            "8    1\n",
            "9    1\n",
            "Name: closest, dtype: int64\n"
          ],
          "name": "stdout"
        },
        {
          "output_type": "display_data",
          "data": {
            "image/png": "[encoded data removed]",
            "text/plain": [
              "<Figure size 360x360 with 1 Axes>"
            ]
          },
          "metadata": {
            "tags": [],
            "needs_background": "light"
          }
        }
      ]
    },
    {
      "cell_type": "code",
      "metadata": {
        "id": "LfngLa_5sFlv",
        "colab_type": "code",
        "colab": {},
        "outputId": "1d4c2743-7719-43a9-e887-c803938df6e3"
      },
      "source": [
        "import copy\n",
        "\n",
        "old_centroids = copy.deepcopy(centroids)\n",
        "\n",
        "def update(k):\n",
        "    for i in centroids.keys():\n",
        "        centroids[i][0] = np.mean(df[df['closest'] == i]['x'])\n",
        "        centroids[i][1] = np.mean(df[df['closest'] == i]['y'])\n",
        "    return k\n",
        "\n",
        "centroids = update(centroids)\n",
        "print (centroids)\n",
        "fig1 = plt.figure(figsize=(5, 5))\n",
        "#plt.scatter(df['x'], df['y'], marker='^',facecolor='white', edgecolor='black', color='k')\n",
        "colmap = {1: 'r', 2: 'g', 3: 'b'}\n",
        "for i in centroids.keys():\n",
        "    plt.scatter(*centroids[i], color=colmap[i])\n",
        "plt.xlim(4, 7)\n",
        "plt.ylim(2.5, 5)\n",
        "plt.show()\n",
        "fig1.savefig('task3_iter1_b.jpg')"
      ],
      "execution_count": 0,
      "outputs": [
        {
          "output_type": "stream",
          "text": [
            "{1: [5.171428571428572, 3.1714285714285713], 2: [5.5, 4.2], 3: [6.45, 2.95]}\n"
          ],
          "name": "stdout"
        },
        {
          "output_type": "display_data",
          "data": {
            "image/png": "[encoded data removed]",
            "text/plain": [
              "<Figure size 360x360 with 1 Axes>"
            ]
          },
          "metadata": {
            "tags": [],
            "needs_background": "light"
          }
        }
      ]
    },
    {
      "cell_type": "code",
      "metadata": {
        "id": "weP61dPRsFl0",
        "colab_type": "code",
        "colab": {},
        "outputId": "af1bdaa4-6343-47f1-8b26-e4e7ebcfbc80"
      },
      "source": [
        "data = assign(data, centroids)\n",
        "print(data['closest'])\n",
        "# Plot results\n",
        "fig2 = plt.figure(figsize=(5, 5))\n",
        "plt.scatter(data['x'], data['y'], color=data['color'], alpha=0.5, marker='^', edgecolor='k')\n",
        "for i in centroids.keys():\n",
        "    plt.scatter(*centroids[i], color=colmap[i])\n",
        "plt.xlim(4, 7)\n",
        "plt.ylim(2.5, 5)\n",
        "plt.show()\n",
        "fig2.savefig('task3_iter2_a.jpg')\n",
        "\n",
        "centroids = update(centroids)\n",
        "print (centroids)\n",
        "fig1 = plt.figure(figsize=(5, 5))\n",
        "#plt.scatter(data['x'], data['y'], marker='^',facecolor='white', edgecolor='black', color='k')\n",
        "colmap = {1: 'r', 2: 'g', 3: 'b'}\n",
        "for i in centroids.keys():\n",
        "    plt.scatter(*centroids[i], color=colmap[i])\n",
        "plt.xlim(4, 7)\n",
        "plt.ylim(2.5, 5)\n",
        "plt.show()\n",
        "fig1.savefig('task3_iter2_b.jpg')"
      ],
      "execution_count": 0,
      "outputs": [
        {
          "output_type": "stream",
          "text": [
            "0    3\n",
            "1    1\n",
            "2    3\n",
            "3    1\n",
            "4    2\n",
            "5    1\n",
            "6    1\n",
            "7    3\n",
            "8    2\n",
            "9    3\n",
            "Name: closest, dtype: int64\n"
          ],
          "name": "stdout"
        },
        {
          "output_type": "display_data",
          "data": {
            "image/png": "[encoded data removed]",
            "text/plain": [
              "<Figure size 360x360 with 1 Axes>"
            ]
          },
          "metadata": {
            "tags": [],
            "needs_background": "light"
          }
        },
        {
          "output_type": "stream",
          "text": [
            "{1: [4.800000000000001, 3.05], 2: [5.3, 4.0], 3: [6.2, 3.025]}\n"
          ],
          "name": "stdout"
        },
        {
          "output_type": "display_data",
          "data": {
            "image/png": "[encoded data removed]",
            "text/plain": [
              "<Figure size 360x360 with 1 Axes>"
            ]
          },
          "metadata": {
            "tags": [],
            "needs_background": "light"
          }
        }
      ]
    },
    {
      "cell_type": "code",
      "metadata": {
        "id": "WZIWkBYWsFl4",
        "colab_type": "code",
        "colab": {}
      },
      "source": [
        ""
      ],
      "execution_count": 0,
      "outputs": []
    }
  ]
}