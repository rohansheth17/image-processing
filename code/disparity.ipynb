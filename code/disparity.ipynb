{
  "nbformat": 4,
  "nbformat_minor": 0,
  "metadata": {
    "kernelspec": {
      "display_name": "Python 3",
      "language": "python",
      "name": "python3"
    },
    "language_info": {
      "codemirror_mode": {
        "name": "ipython",
        "version": 3
      },
      "file_extension": ".py",
      "mimetype": "text/x-python",
      "name": "python",
      "nbconvert_exporter": "python",
      "pygments_lexer": "ipython3",
      "version": "3.6.6"
    },
    "colab": {
      "name": "disparity.ipynb",
      "provenance": []
    }
  },
  "cells": [
    {
      "cell_type": "code",
      "metadata": {
        "id": "6rAUxWT6sK0V",
        "colab_type": "code",
        "colab": {},
        "outputId": "40da98ab-d3af-4536-ffec-c2bd49e1d604"
      },
      "source": [
        "import numpy as np\n",
        "import cv2\n",
        "from matplotlib import pyplot as plt\n",
        "\n",
        "imgL = cv2.imread('tsucuba_left.png',0)\n",
        "imgR = cv2.imread('tsucuba_right.png',0)\n",
        "\n",
        "\n",
        "StereoMatcher = cv2.StereoBM_create()\n",
        "\n",
        "disparity = StereoMatcher.compute(imgL, imgR)\n",
        "plt.imshow(disparity,'gray')\n",
        "plt.show()\n",
        "plt.imsave('task2_disparity.jpg', disparity, cmap = 'gray')\n",
        "\n",
        "# print (disparity)\n",
        "# cv2.imwrite('task2_disparity.jpg', disparity)"
      ],
      "execution_count": 0,
      "outputs": [
        {
          "output_type": "display_data",
          "data": {
            "text/plain": [
              "<Figure size 640x480 with 1 Axes>"
            ]
          },
          "metadata": {
            "tags": []
          }
        }
      ]
    },
    {
      "cell_type": "code",
      "metadata": {
        "id": "ABMv4VvPsK0a",
        "colab_type": "code",
        "colab": {}
      },
      "source": [
        ""
      ],
      "execution_count": 0,
      "outputs": []
    },
    {
      "cell_type": "code",
      "metadata": {
        "id": "_Vks67losK0d",
        "colab_type": "code",
        "colab": {}
      },
      "source": [
        ""
      ],
      "execution_count": 0,
      "outputs": []
    }
  ]
}